{
 "cells": [
  {
   "cell_type": "markdown",
   "source": [
    "# Naive Bayes"
   ],
   "metadata": {
    "colab_type": "text",
    "id": "0MRC0e0KhQ0S"
   }
  },
  {
   "cell_type": "markdown",
   "source": [
    "### Credits : https://towardsdatascience.com/implementing-a-naive-bayes-classifier-f206805a95fd"
   ],
   "metadata": {}
  },
  {
   "cell_type": "markdown",
   "source": [
    "## Importing the libraries"
   ],
   "metadata": {
    "colab_type": "text",
    "id": "LWd1UlMnhT2s"
   }
  },
  {
   "cell_type": "code",
   "execution_count": 3,
   "source": [
    "from sklearn.datasets import fetch_20newsgroups\n",
    "from sklearn.feature_extraction.text import CountVectorizer\n",
    "from sklearn.naive_bayes import GaussianNB\n",
    "from sklearn.metrics import confusion_matrix, plot_confusion_matrix\n",
    "from sklearn.metrics import accuracy_score, precision_score, recall_score, f1_score\n",
    "from sklearn.metrics import confusion_matrix,plot_confusion_matrix, plot_roc_curve\n",
    "\n",
    "import matplotlib.pyplot as plt"
   ],
   "outputs": [],
   "metadata": {
    "colab": {},
    "colab_type": "code",
    "id": "YvGPUQaHhXfL",
    "pycharm": {
     "is_executing": false
    }
   }
  },
  {
   "cell_type": "markdown",
   "source": [
    "## Importing the dataset and Splitting the dataset into the Training set and Test set"
   ],
   "metadata": {
    "colab_type": "text",
    "id": "YvxIPVyMhmKp"
   }
  },
  {
   "cell_type": "code",
   "execution_count": 4,
   "source": [
    "data_train = fetch_20newsgroups(subset='train', categories=None,\n",
    "                                shuffle=True, random_state=42,\n",
    "                                remove=('headers', 'footers', 'quotes'))\n",
    "\n",
    "data_test = fetch_20newsgroups(subset='test', categories=None,\n",
    "                               shuffle=True, random_state=42,\n",
    "                               remove=('headers', 'footers', 'quotes'))\n",
    "X_train = data_train.data\n",
    "y_train = data_train.target\n",
    "X_test = data_test.data\n",
    "y_test = data_test.target"
   ],
   "outputs": [],
   "metadata": {
    "colab": {},
    "colab_type": "code",
    "id": "AVzJWAXIhxoC",
    "pycharm": {
     "is_executing": false
    }
   }
  },
  {
   "cell_type": "code",
   "execution_count": 5,
   "source": [
    "type(data_train)"
   ],
   "outputs": [
    {
     "output_type": "execute_result",
     "data": {
      "text/plain": [
       "sklearn.utils.Bunch"
      ]
     },
     "metadata": {},
     "execution_count": 5
    }
   ],
   "metadata": {}
  },
  {
   "cell_type": "code",
   "execution_count": 6,
   "source": [
    "data_train.keys()"
   ],
   "outputs": [
    {
     "output_type": "execute_result",
     "data": {
      "text/plain": [
       "dict_keys(['data', 'filenames', 'target_names', 'target', 'DESCR'])"
      ]
     },
     "metadata": {},
     "execution_count": 6
    }
   ],
   "metadata": {}
  },
  {
   "cell_type": "code",
   "execution_count": 7,
   "source": [
    "data_train['data'][0]"
   ],
   "outputs": [
    {
     "output_type": "execute_result",
     "data": {
      "text/plain": [
       "'I was wondering if anyone out there could enlighten me on this car I saw\\nthe other day. It was a 2-door sports car, looked to be from the late 60s/\\nearly 70s. It was called a Bricklin. The doors were really small. In addition,\\nthe front bumper was separate from the rest of the body. This is \\nall I know. If anyone can tellme a model name, engine specs, years\\nof production, where this car is made, history, or whatever info you\\nhave on this funky looking car, please e-mail.'"
      ]
     },
     "metadata": {},
     "execution_count": 7
    }
   ],
   "metadata": {}
  },
  {
   "cell_type": "code",
   "execution_count": 8,
   "source": [
    "data_train['target'][0]"
   ],
   "outputs": [
    {
     "output_type": "execute_result",
     "data": {
      "text/plain": [
       "7"
      ]
     },
     "metadata": {},
     "execution_count": 8
    }
   ],
   "metadata": {}
  },
  {
   "cell_type": "code",
   "execution_count": 9,
   "source": [
    "data_train['target_names']"
   ],
   "outputs": [
    {
     "output_type": "execute_result",
     "data": {
      "text/plain": [
       "['alt.atheism',\n",
       " 'comp.graphics',\n",
       " 'comp.os.ms-windows.misc',\n",
       " 'comp.sys.ibm.pc.hardware',\n",
       " 'comp.sys.mac.hardware',\n",
       " 'comp.windows.x',\n",
       " 'misc.forsale',\n",
       " 'rec.autos',\n",
       " 'rec.motorcycles',\n",
       " 'rec.sport.baseball',\n",
       " 'rec.sport.hockey',\n",
       " 'sci.crypt',\n",
       " 'sci.electronics',\n",
       " 'sci.med',\n",
       " 'sci.space',\n",
       " 'soc.religion.christian',\n",
       " 'talk.politics.guns',\n",
       " 'talk.politics.mideast',\n",
       " 'talk.politics.misc',\n",
       " 'talk.religion.misc']"
      ]
     },
     "metadata": {},
     "execution_count": 9
    }
   ],
   "metadata": {}
  },
  {
   "cell_type": "markdown",
   "source": [
    "## Feature Scaling"
   ],
   "metadata": {
    "colab_type": "text",
    "id": "kW3c7UYih0hT"
   }
  },
  {
   "cell_type": "code",
   "execution_count": 18,
   "source": [
    "vectorizer = CountVectorizer(max_features=2000)\n",
    "# vectorizer = CountVectorizer()\n",
    "X_train2 = vectorizer.fit_transform(X_train)\n",
    "X_test2 = vectorizer.transform(X_test)\n",
    "len(vectorizer.vocabulary_)"
   ],
   "outputs": [
    {
     "output_type": "execute_result",
     "data": {
      "text/plain": [
       "2000"
      ]
     },
     "metadata": {},
     "execution_count": 18
    }
   ],
   "metadata": {
    "colab": {},
    "colab_type": "code",
    "id": "9fQlDPKCh8sc",
    "pycharm": {
     "is_executing": false
    }
   }
  },
  {
   "cell_type": "markdown",
   "source": [
    "## Training the Naive Bayes model on the Training set"
   ],
   "metadata": {
    "colab_type": "text",
    "id": "bb6jCOCQiAmP"
   }
  },
  {
   "cell_type": "code",
   "execution_count": 11,
   "source": [
    "classifier = GaussianNB()\n",
    "classifier.fit(X_train2.toarray(), y_train)"
   ],
   "outputs": [
    {
     "output_type": "execute_result",
     "data": {
      "text/plain": [
       "GaussianNB()"
      ]
     },
     "metadata": {},
     "execution_count": 11
    }
   ],
   "metadata": {
    "colab": {
     "base_uri": "https://localhost:8080/",
     "height": 34
    },
    "colab_type": "code",
    "executionInfo": {
     "elapsed": 1728,
     "status": "ok",
     "timestamp": 1586365218122,
     "user": {
      "displayName": "Hadelin de Ponteves",
      "photoUrl": "https://lh3.googleusercontent.com/a-/AOh14GhEuXdT7eQweUmRPW8_laJuPggSK6hfvpl5a6WBaA=s64",
      "userId": "15047218817161520419"
     },
     "user_tz": -240
    },
    "id": "e0pFVAmciHQs",
    "outputId": "3859a47c-10a1-43f6-80b5-e20b95e65d8b",
    "pycharm": {
     "is_executing": false
    }
   }
  },
  {
   "cell_type": "markdown",
   "source": [
    "## Predicting the Test set results"
   ],
   "metadata": {
    "colab_type": "text",
    "id": "ZmePIEiiiKyw"
   }
  },
  {
   "cell_type": "code",
   "execution_count": 12,
   "source": [
    "y_pred = classifier.predict(X_test2.toarray())"
   ],
   "outputs": [],
   "metadata": {
    "colab": {},
    "colab_type": "code",
    "id": "aWK4AcCgiNwF",
    "pycharm": {
     "is_executing": false
    }
   }
  },
  {
   "cell_type": "markdown",
   "source": [
    "## Making the Confusion Matrix"
   ],
   "metadata": {
    "colab_type": "text",
    "id": "h4Hwj34ziWQW"
   }
  },
  {
   "cell_type": "code",
   "execution_count": 13,
   "source": [
    "cm = confusion_matrix(y_test, y_pred)\n",
    "print(cm)"
   ],
   "outputs": [
    {
     "output_type": "stream",
     "name": "stdout",
     "text": [
      "[[ 91   0   2   1  10   0   6   8  15  67   0   4   1   3   3  46   3   7\n",
      "    5  47]\n",
      " [  0  94  16  38  79  17  25   4  13  48   2   8  14  11  16   2   1   0\n",
      "    0   1]\n",
      " [  1  27  30  59 154  25  19   3   9  35   0   5   7   9   7   1   0   0\n",
      "    1   2]\n",
      " [  0   9   8 112 165   2  25   6   6  26   1   7  19   1   4   0   1   0\n",
      "    0   0]\n",
      " [  1   9   5  34 219   2  27   1  10  45   1   3  16   6   5   0   0   0\n",
      "    0   1]\n",
      " [  2  74  29  26  71 118  16   2  11  27   0   4   8   5   1   0   0   1\n",
      "    0   0]\n",
      " [  0   3   1  10  68   5 202  10  18  43   3   6  11   4   3   0   1   2\n",
      "    0   0]\n",
      " [  1   1   0   6  23   0  16 122  97  80   0   4  19   2   5   1  12   0\n",
      "    5   2]\n",
      " [  1   0   0   0  18   1  10  39 187 106   2   2   5   5   5   2   8   1\n",
      "    1   5]\n",
      " [  7   0   0   3   4   1   8   9  13 248  41   5   4   6   3   4   7   1\n",
      "   20  13]\n",
      " [  1   0   0   0   2   0  10   4  17 178 163   1   1   3   1   2   5   1\n",
      "    4   6]\n",
      " [ 12   6   9   6  18   1   6  18  19  58   2 189   9   1  17   7   2   2\n",
      "    1  13]\n",
      " [  0  12   3  37  70   4  28  36  45  44   2  13  79   5   8   0   1   4\n",
      "    1   1]\n",
      " [ 14   5   0   5  14   0   8  40  42  72   1   1  11  88   8  47   7   8\n",
      "    5  20]\n",
      " [ 17  24   0  10  10   0  22  26  28  61   4   4  17   6 126  10   5   1\n",
      "   12  11]\n",
      " [ 57   1   0   0   6   0   5   0  12  49   0   3   1   2   2 141   1  13\n",
      "   11  94]\n",
      " [  9   0   0   1   4   0   5  33  41  65   6   4   2   2   0  10  88  14\n",
      "   19  61]\n",
      " [ 38   0   1   2   2   0   2   3  12  47   0   2   1   2   3  23  10 164\n",
      "   10  54]\n",
      " [ 35   0   0   2   2   0   4  23  30  42   3   3   1   7   9  12  33   7\n",
      "   41  56]\n",
      " [ 34   1   0   0   7   0   4  12  20  46   1   2   0   1   2  31   9  12\n",
      "    4  65]]\n"
     ]
    }
   ],
   "metadata": {
    "colab": {
     "base_uri": "https://localhost:8080/",
     "height": 50
    },
    "colab_type": "code",
    "executionInfo": {
     "elapsed": 1709,
     "status": "ok",
     "timestamp": 1586365226710,
     "user": {
      "displayName": "Hadelin de Ponteves",
      "photoUrl": "https://lh3.googleusercontent.com/a-/AOh14GhEuXdT7eQweUmRPW8_laJuPggSK6hfvpl5a6WBaA=s64",
      "userId": "15047218817161520419"
     },
     "user_tz": -240
    },
    "id": "D6bpZwUiiXic",
    "outputId": "937faa8e-5a56-4e0c-bf7a-3eac51e672cc",
    "pycharm": {
     "is_executing": false
    }
   }
  },
  {
   "cell_type": "markdown",
   "source": [
    "## Visualising the results"
   ],
   "metadata": {
    "colab_type": "text",
    "id": "6OMC_P0diaoD"
   }
  },
  {
   "cell_type": "code",
   "execution_count": 14,
   "source": [
    "plot_confusion_matrix(classifier, X_test2.toarray(), y_test, display_labels=['alt.atheism',\n",
    " 'comp.graphics',\n",
    " 'comp.os.ms-windows.misc',\n",
    " 'comp.sys.ibm.pc.hardware',\n",
    " 'comp.sys.mac.hardware',\n",
    " 'comp.windows.x',\n",
    " 'misc.forsale',\n",
    " 'rec.autos',\n",
    " 'rec.motorcycles',\n",
    " 'rec.sport.baseball',\n",
    " 'rec.sport.hockey',\n",
    " 'sci.crypt',\n",
    " 'sci.electronics',\n",
    " 'sci.med',\n",
    " 'sci.space',\n",
    " 'soc.religion.christian',\n",
    " 'talk.politics.guns',\n",
    " 'talk.politics.mideast',\n",
    " 'talk.politics.misc',\n",
    " 'talk.religion.misc'], cmap=plt.cm.Blues) "
   ],
   "outputs": [
    {
     "output_type": "execute_result",
     "data": {
      "text/plain": [
       "<sklearn.metrics._plot.confusion_matrix.ConfusionMatrixDisplay at 0x7f4481d24220>"
      ]
     },
     "metadata": {},
     "execution_count": 14
    },
    {
     "output_type": "display_data",
     "data": {
      "image/png": "[encoded data removed]",
      "text/plain": [
       "<Figure size 432x288 with 2 Axes>"
      ]
     },
     "metadata": {
      "needs_background": "light"
     }
    }
   ],
   "metadata": {
    "colab": {
     "base_uri": "https://localhost:8080/",
     "height": 349
    },
    "colab_type": "code",
    "executionInfo": {
     "elapsed": 2425,
     "status": "ok",
     "timestamp": 1586365240015,
     "user": {
      "displayName": "Hadelin de Ponteves",
      "photoUrl": "https://lh3.googleusercontent.com/a-/AOh14GhEuXdT7eQweUmRPW8_laJuPggSK6hfvpl5a6WBaA=s64",
      "userId": "15047218817161520419"
     },
     "user_tz": -240
    },
    "id": "qeTjz2vDilAC",
    "outputId": "527a23a2-5b72-46f4-b6a4-9c4208ea0d39",
    "pycharm": {
     "is_executing": false
    },
    "scrolled": false
   }
  },
  {
   "cell_type": "code",
   "execution_count": 15,
   "source": [
    "# Performance Metrics\n",
    "accuracy  = round(100*accuracy_score(y_test,y_pred),2)\n",
    "precision = round(100*precision_score(y_test,y_pred,average='macro'),2)\n",
    "recall    = round(100*recall_score(y_test,y_pred,average='macro'),2) \n",
    "f1        = round(f1_score(y_test,y_pred,average='macro'),2)\n"
   ],
   "outputs": [],
   "metadata": {}
  },
  {
   "cell_type": "code",
   "execution_count": 16,
   "source": [
    "print(\"Accuracy: {0}\".format(accuracy))\n",
    "print(\"Precision: {0}\".format(precision))\n",
    "print(\"Recall: {0}\".format(recall))\n",
    "print(\"F1: {0}\".format(f1))"
   ],
   "outputs": [
    {
     "output_type": "stream",
     "name": "stdout",
     "text": [
      "Accuracy: 34.08\n",
      "Precision: 40.96\n",
      "Recall: 33.65\n",
      "F1: 0.34\n"
     ]
    }
   ],
   "metadata": {}
  },
  {
   "cell_type": "code",
   "execution_count": null,
   "source": [],
   "outputs": [],
   "metadata": {}
  },
  {
   "cell_type": "code",
   "execution_count": null,
   "source": [],
   "outputs": [],
   "metadata": {}
  }
 ],
 "metadata": {
  "colab": {
   "authorship_tag": "ABX9TyOZLyqO8nQzhvqMShXecuGG",
   "collapsed_sections": [],
   "name": "Naive Bayes",
   "provenance": [],
   "toc_visible": true
  },
  "kernelspec": {
   "name": "python3",
   "display_name": "Python 3.8.10 64-bit"
  },
  "language_info": {
   "codemirror_mode": {
    "name": "ipython",
    "version": 3
   },
   "file_extension": ".py",
   "mimetype": "text/x-python",
   "name": "python",
   "nbconvert_exporter": "python",
   "pygments_lexer": "ipython3",
   "version": "3.8.10"
  },
  "pycharm": {
   "stem_cell": {
    "cell_type": "raw",
    "metadata": {
     "collapsed": false
    },
    "source": []
   }
  },
  "interpreter": {
   "hash": "31f2aee4e71d21fbe5cf8b01ff0e069b9275f58929596ceb00d14d90e3e16cd6"
  }
 },
 "nbformat": 4,
 "nbformat_minor": 1
}