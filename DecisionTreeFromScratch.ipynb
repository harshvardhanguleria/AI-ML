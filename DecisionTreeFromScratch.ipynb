{
  "nbformat": 4,
  "nbformat_minor": 0,
  "metadata": {
    "colab": {
      "name": "DecisionTree.ipynb",
      "provenance": [],
      "collapsed_sections": [],
      "authorship_tag": "ABX9TyPD4955uB/sJof0aljFqiuQ",
      "include_colab_link": true
    },
    "kernelspec": {
      "name": "python3",
      "display_name": "Python 3"
    },
    "language_info": {
      "name": "python"
    }
  },
  "cells": [
    {
      "cell_type": "markdown",
      "metadata": {
        "id": "view-in-github",
        "colab_type": "text"
      },
      "source": [
        "<a href=\"https://colab.research.google.com/github/khal-drog0/AI-ML/blob/learning/DecisionTreeFromScratch.ipynb\" target=\"_parent\"><img src=\"https://colab.research.google.com/assets/colab-badge.svg\" alt=\"Open In Colab\"/></a>"
      ]
    },
    {
      "cell_type": "code",
      "execution_count": 17,
      "metadata": {
        "id": "eRWAJrp9aImq"
      },
      "outputs": [],
      "source": [
        "# First two columns are features.\n",
        "# Last column is the class label.\n",
        "\n",
        "training_data = [\n",
        "                 ['Green', 3, 'Apple'],\n",
        "                 ['Yellow', 3, 'Apple'],\n",
        "                 ['Red', 1, 'Grape'],\n",
        "                 ['Red', 1, 'Grape'],\n",
        "                 ['Yellow', 3, 'Lemon']\n",
        "]"
      ]
    },
    {
      "cell_type": "code",
      "source": [
        "# Column labels\n",
        "header = ['color', 'diameter', 'label']"
      ],
      "metadata": {
        "id": "Tw6y3NT6awPx"
      },
      "execution_count": 18,
      "outputs": []
    },
    {
      "cell_type": "code",
      "source": [
        "# Finding unique values for a column in a dataset\n",
        "def unique_values(rows, columns):\n",
        "    return set([row[columns] for row in rows])"
      ],
      "metadata": {
        "id": "g91iqCQ0bOI8"
      },
      "execution_count": 19,
      "outputs": []
    },
    {
      "cell_type": "code",
      "source": [
        "# counts the number of each type of example in the dataset\n",
        "def class_counts(rows):\n",
        "    counts = {}\n",
        "    for row in rows:\n",
        "        label = row[-1]\n",
        "        if label not in counts:\n",
        "            counts[label] = 0\n",
        "        counts[label] += 1\n",
        "    return counts"
      ],
      "metadata": {
        "id": "-sPVRoN9bz9l"
      },
      "execution_count": 20,
      "outputs": []
    },
    {
      "cell_type": "code",
      "source": [
        "# Test if value is numeric\n",
        "def is_numeric(value):\n",
        "    return isinstance(value, int) or isinstance(value, float)"
      ],
      "metadata": {
        "id": "ql5gZYjscTi4"
      },
      "execution_count": 21,
      "outputs": []
    },
    {
      "cell_type": "code",
      "source": [
        "# Partition the data.\n",
        "# Record column number and column value.\n",
        "# Match method compares the feature value of example\n",
        "# and the feature value stored in the question.\n",
        "class Question:\n",
        "    def __init__(self, column, value):\n",
        "        self.column = column\n",
        "        self.value = value\n",
        "    \n",
        "    def match(self, example):\n",
        "        # Compare the feature value in an example to the\n",
        "        # feature value in this question.\n",
        "        val = example[self.column]\n",
        "        if is_numeric(val):\n",
        "            return val >= self.value\n",
        "        else:\n",
        "            return val == self.value\n",
        "\n",
        "    def __repr__(self):\n",
        "        # Helper method to print the question in readable format\n",
        "        condition = '=='\n",
        "        if is_numeric(self.value):\n",
        "            condition = '>='\n",
        "        return 'Is %s %s %s?' % (\n",
        "            header[self.column], condition, str(self.value)\n",
        "        )"
      ],
      "metadata": {
        "id": "GnRnaMe-cj3j"
      },
      "execution_count": 34,
      "outputs": []
    },
    {
      "cell_type": "code",
      "source": [
        "def partition(rows, question):\n",
        "    # Partition a dataset\n",
        "    # For each row in the dataset, check if it matches the question. \n",
        "    # If so, add it to 'true rows', otherwise, add it to 'false rows'.\n",
        "    true_rows, false_rows = [], []\n",
        "    for row in rows:\n",
        "        if question.match(row):\n",
        "            true_rows.append(row)\n",
        "        else:\n",
        "            false_rows.append(row)\n",
        "    return true_rows, false_rows\n"
      ],
      "metadata": {
        "id": "0PweF_-nM72c"
      },
      "execution_count": 23,
      "outputs": []
    },
    {
      "cell_type": "code",
      "source": [
        "def gini(rows):\n",
        "    # Calculate GINI Impurity for al list of rows.\n",
        "    counts = class_counts(rows)\n",
        "    impurity = 1\n",
        "    for lbl in counts:\n",
        "        prob_of_lbl = counts[lbl] / float(len(rows))\n",
        "        impurity -= prob_of_lbl ** 2\n",
        "    return impurity"
      ],
      "metadata": {
        "id": "a-fWrw5KN1dD"
      },
      "execution_count": 24,
      "outputs": []
    },
    {
      "cell_type": "code",
      "source": [
        "def info_gain(left, right, current_uncertainty):\n",
        "    # Information gain\n",
        "    # Uncertainty of starting node - weighted impurity of two child\n",
        "    # nodes\n",
        "    p = float(len(left)) / (len(left) + len(right))\n",
        "    return current_uncertainty - p * gini(left) - (1 - p) * gini(right)"
      ],
      "metadata": {
        "id": "POkDHwD5ONA6"
      },
      "execution_count": 25,
      "outputs": []
    },
    {
      "cell_type": "code",
      "source": [
        "def find_best_split(rows):\n",
        "    # Find best question to ask by iterating over every feature/value\n",
        "    # and calculating the information gain.\n",
        "    best_gain = 0\n",
        "    best_question = None\n",
        "    current_uncertainty = gini(rows)\n",
        "    n_features = len(rows[0]) - 1\n",
        "\n",
        "    for col in range(n_features):\n",
        "        values = set([row[col] for row in rows]) # unique values in column\n",
        "        for val in values:\n",
        "            question = Question(col, val)\n",
        "            \n",
        "            # try splitting the dataset\n",
        "            true_rows, false_rows = partition(rows, question)\n",
        "\n",
        "            # Skip hte split if it doesn't divide the dataset.\n",
        "            if len(true_rows) == 0 or len(false_rows) == 0:\n",
        "                continue\n",
        "\n",
        "            # Calculare the info gain from this split\n",
        "            gain = info_gain(true_rows, false_rows, current_uncertainty)\n",
        "\n",
        "            if gain >= best_gain:\n",
        "                best_gain, best_question = gain, question\n",
        "    return best_gain, best_question"
      ],
      "metadata": {
        "id": "PtpIAwQGOtne"
      },
      "execution_count": 26,
      "outputs": []
    },
    {
      "cell_type": "code",
      "source": [
        "class Leaf:\n",
        "    # A Leaf node classifies data.\n",
        "    # It holds a dictionary of class number of times it appears\n",
        "    # in the rows form the training data that reach this leaf.\n",
        "    def __init__(self, rows):\n",
        "        self.predictions = class_counts(rows)"
      ],
      "metadata": {
        "id": "yBahDtmhQXNx"
      },
      "execution_count": 27,
      "outputs": []
    },
    {
      "cell_type": "code",
      "source": [
        "class Decision_Node:\n",
        "    # A Decision Node asks a question.\n",
        "    # It holds a reference to the question, and to the two child nodes.\n",
        "    def __init__(self, question, true_branch, false_branch):\n",
        "        self.question = question\n",
        "        self.true_branch = true_branch\n",
        "        self.false_branch = false_branch"
      ],
      "metadata": {
        "id": "x88v5MT0QwpV"
      },
      "execution_count": 28,
      "outputs": []
    },
    {
      "cell_type": "code",
      "source": [
        "def build_tree(rows):\n",
        "    # Builds the tree.\n",
        "    # Uses Recursion\n",
        "    # Starts by checking for the base case (no further info gain)\n",
        "    # Prepare for giant stack traces.\n",
        "\n",
        "    # Try partitioing the dataset on each of the unique attribute,\n",
        "    # calculate the information gain,\n",
        "    # and return the question that produces the highest gain.\n",
        "    gain, question = find_best_split(rows)\n",
        "\n",
        "    # Base case: no further info gain\n",
        "    # Since we can ask no further questions,\n",
        "    # we'll return a leaf.\n",
        "    if gain == 0:\n",
        "        return Leaf(rows)\n",
        "\n",
        "    # If we reach here, we have found a useful feature / value\n",
        "    # to partition on.\n",
        "    true_rows, false_rows = partition(rows, question)\n",
        "\n",
        "    # Recursively build the true branch.\n",
        "    true_branch = build_tree(true_rows)\n",
        "\n",
        "    # Recursively build the false branch.\n",
        "    false_branch = build_tree(false_rows)\n",
        "\n",
        "    # Return a Question node.\n",
        "    # This records the best feature / value to ask at this point,\n",
        "    # as well as the branches to follow\n",
        "    # depending on the answer.\n",
        "    return Decision_Node(question, true_branch, false_branch)"
      ],
      "metadata": {
        "id": "WXOhfKF2RMpA"
      },
      "execution_count": 29,
      "outputs": []
    },
    {
      "cell_type": "code",
      "source": [
        "def print_tree(node, spacing=''):\n",
        "    # Base case\n",
        "    if isinstance(node, Leaf):\n",
        "        print(spacing +\"Predict\", node.predictions)\n",
        "        return\n",
        "    \n",
        "    # Print the question at this node\n",
        "    print(spacing + str(node.question))\n",
        "\n",
        "    # Call this function recursively on the true branch\n",
        "    print(spacing +'--> True:')\n",
        "    print_tree(node.true_branch, spacing +' ')"
      ],
      "metadata": {
        "id": "lw8ZXgOqS_wg"
      },
      "execution_count": 30,
      "outputs": []
    },
    {
      "cell_type": "code",
      "source": [
        "def classify(row, node):\n",
        "    # Base case\n",
        "    if isinstance(node, Leaf):\n",
        "        return node.predictions\n",
        "    # Decide whether to follow the true-branch or the false-branch.\n",
        "    # Compare the feature / value stored in the node,\n",
        "    # to the example we're considering.\n",
        "    if node.question.match(row):\n",
        "        return classify(row, node.true_branch)\n",
        "    else:\n",
        "        return classify(row, node.false_branch)"
      ],
      "metadata": {
        "id": "aQj0stGxT7yd"
      },
      "execution_count": 31,
      "outputs": []
    },
    {
      "cell_type": "code",
      "source": [
        "def print_leaf(counts):\n",
        "    total = sum(counts.values()) * 1.0\n",
        "    probs = {}\n",
        "    for lbl in counts.keys():\n",
        "        probs[lbl] = str(int(counts[lbl] / total * 100)) + '%'\n",
        "    return probs"
      ],
      "metadata": {
        "id": "RlhFv5EOUWKS"
      },
      "execution_count": 32,
      "outputs": []
    },
    {
      "cell_type": "code",
      "source": [
        "if __name__ == '__main__':\n",
        "    my_tree = build_tree(training_data)\n",
        "\n",
        "    print_tree(my_tree)\n",
        "\n",
        "    testing_data = [\n",
        "                    ['Green', 3, 'Apple'],\n",
        "                    ['Yellow', 4, 'Apple'],\n",
        "                    ['Red', 2, 'Grape'],\n",
        "                    ['Red', 1, 'Grape'],\n",
        "                    ['Yellow', 3, 'Lemon']\n",
        "    ]\n",
        "\n",
        "    for row in testing_data:\n",
        "        print(\"Actual: %s. Predicted: %s\" %\n",
        "              (row[-1], print_leaf(classify(row, my_tree))))"
      ],
      "metadata": {
        "id": "U4MzFPCHUqsu",
        "outputId": "3e359250-566f-4da0-e46d-9fa1dc71cb0f",
        "colab": {
          "base_uri": "https://localhost:8080/"
        }
      },
      "execution_count": 35,
      "outputs": [
        {
          "output_type": "stream",
          "name": "stdout",
          "text": [
            "Is diameter >= 3?\n",
            "--> True:\n",
            " Is color == Yellow?\n",
            " --> True:\n",
            "  Predict {'Apple': 1, 'Lemon': 1}\n",
            "Actual: Apple. Predicted: {'Apple': '100%'}\n",
            "Actual: Apple. Predicted: {'Apple': '50%', 'Lemon': '50%'}\n",
            "Actual: Grape. Predicted: {'Grape': '100%'}\n",
            "Actual: Grape. Predicted: {'Grape': '100%'}\n",
            "Actual: Lemon. Predicted: {'Apple': '50%', 'Lemon': '50%'}\n"
          ]
        }
      ]
    },
    {
      "cell_type": "code",
      "source": [
        ""
      ],
      "metadata": {
        "id": "g-YJM9aEU0bs"
      },
      "execution_count": null,
      "outputs": []
    }
  ]
}