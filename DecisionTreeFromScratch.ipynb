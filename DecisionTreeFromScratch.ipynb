{
  "nbformat": 4,
  "nbformat_minor": 0,
  "metadata": {
    "colab": {
      "name": "DecisionTree.ipynb",
      "provenance": [],
      "collapsed_sections": [],
      "authorship_tag": "ABX9TyOFcQ7EzSwHhI1qhoYIBVSL",
      "include_colab_link": true
    },
    "kernelspec": {
      "name": "python3",
      "display_name": "Python 3"
    },
    "language_info": {
      "name": "python"
    }
  },
  "cells": [
    {
      "cell_type": "markdown",
      "metadata": {
        "id": "view-in-github",
        "colab_type": "text"
      },
      "source": [
        "<a href=\"https://colab.research.google.com/github/khal-drog0/AI-ML/blob/learning/DecisionTreeFromScratch.ipynb\" target=\"_parent\"><img src=\"https://colab.research.google.com/assets/colab-badge.svg\" alt=\"Open In Colab\"/></a>"
      ]
    },
    {
      "cell_type": "code",
      "execution_count": 2,
      "metadata": {
        "id": "eRWAJrp9aImq"
      },
      "outputs": [],
      "source": [
        "# First two columns are features.\n",
        "# Last column is the class label.\n",
        "\n",
        "training_data = [\n",
        "                 ['Green', 3, 'Apple'],\n",
        "                 ['Yellow', 3, 'Apple'],\n",
        "                 ['Red', 1, 'Grape'],\n",
        "                 ['Red', 1, 'Grape'],\n",
        "                 ['Yellow', 3, 'Lemon']\n",
        "]"
      ]
    },
    {
      "cell_type": "code",
      "source": [
        "# Column labels\n",
        "header = ['color', 'diameter', 'label']"
      ],
      "metadata": {
        "id": "Tw6y3NT6awPx"
      },
      "execution_count": 3,
      "outputs": []
    },
    {
      "cell_type": "code",
      "source": [
        "# Finding unique values for a column in a dataset\n",
        "def unique_values(rows, columns):\n",
        "    return set([row[columns] for row in rows])"
      ],
      "metadata": {
        "id": "g91iqCQ0bOI8"
      },
      "execution_count": 4,
      "outputs": []
    },
    {
      "cell_type": "code",
      "source": [
        "# counts the number of each type of example in the dataset\n",
        "def class_counts(rows):\n",
        "    counts = {}\n",
        "    for row in rows:\n",
        "        label = row[-1]\n",
        "        if label not in counts:\n",
        "            counts[label] = 0\n",
        "        counts[label] += 1\n",
        "    return counts"
      ],
      "metadata": {
        "id": "-sPVRoN9bz9l"
      },
      "execution_count": 5,
      "outputs": []
    },
    {
      "cell_type": "code",
      "source": [
        "# Test if value is numeric\n",
        "def is_numeric(value):\n",
        "    return isinstance(value, int) or isinstance(value, float)"
      ],
      "metadata": {
        "id": "ql5gZYjscTi4"
      },
      "execution_count": 6,
      "outputs": []
    },
    {
      "cell_type": "code",
      "source": [
        ""
      ],
      "metadata": {
        "id": "GnRnaMe-cj3j"
      },
      "execution_count": null,
      "outputs": []
    }
  ]
}