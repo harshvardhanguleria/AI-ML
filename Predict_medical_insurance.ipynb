{
    "cells": [
        {
            "cell_type": "markdown",
            "source": [
                "Problem statement-\n",
                "Build a multivariate Linear regression model to predict the medical insurance cost(charges) based on patient information.\n",
                "1. Perform exploratory data analysis on the dataset\n",
                "2. Visualize data elements\n",
                "3. Derive preliminary observations about relationship between the variables (independent, dependent)\n",
                "4. Perform feature engineering\n",
                " - Explore possibility of deriving new features \n",
                " - Transform existing features using techniques like Min-max scaling, One hot encoding(dummy variable creation)\n",
                "5. Perform feature selection using RFE, VIF, iterative Linear regression model summary (p-value of features coefficients)\n",
                "6. Perform Residual analysis using the training data\n",
                "7. Build the final regression equation.\n"
            ],
            "metadata": {}
        },
        {
            "cell_type": "code",
            "execution_count": 2,
            "source": [
                "# importing required libraries\n",
                "import numpy as np\n",
                "import pandas as pd\n",
                "import matplotlib as plt\n",
                "import seaborn as sb\n",
                "\n",
                "# importing warnings to ingnore any warnings given by the interpreter\n",
                "import warnings\n",
                "warnings.filterwarnings('ignore')\n",
                "\n",
                "pd.set_option('display.max_columns', None)"
            ],
            "outputs": [],
            "metadata": {}
        },
        {
            "cell_type": "markdown",
            "source": [
                "# 1. Reading and understanding data"
            ],
            "metadata": {}
        },
        {
            "cell_type": "code",
            "execution_count": 3,
            "source": [
                "insurance = pd.read_csv('insurance.csv')\n",
                "insurance.head() # gives the first 5 instances of the table"
            ],
            "outputs": [
                {
                    "output_type": "execute_result",
                    "data": {
                        "text/html": [
                            "<div>\n",
                            "<style scoped>\n",
                            "    .dataframe tbody tr th:only-of-type {\n",
                            "        vertical-align: middle;\n",
                            "    }\n",
                            "\n",
                            "    .dataframe tbody tr th {\n",
                            "        vertical-align: top;\n",
                            "    }\n",
                            "\n",
                            "    .dataframe thead th {\n",
                            "        text-align: right;\n",
                            "    }\n",
                            "</style>\n",
                            "<table border=\"1\" class=\"dataframe\">\n",
                            "  <thead>\n",
                            "    <tr style=\"text-align: right;\">\n",
                            "      <th></th>\n",
                            "      <th>age</th>\n",
                            "      <th>sex</th>\n",
                            "      <th>bmi</th>\n",
                            "      <th>children</th>\n",
                            "      <th>smoker</th>\n",
                            "      <th>region</th>\n",
                            "      <th>charges</th>\n",
                            "    </tr>\n",
                            "  </thead>\n",
                            "  <tbody>\n",
                            "    <tr>\n",
                            "      <th>0</th>\n",
                            "      <td>19</td>\n",
                            "      <td>female</td>\n",
                            "      <td>27.900</td>\n",
                            "      <td>0</td>\n",
                            "      <td>yes</td>\n",
                            "      <td>southwest</td>\n",
                            "      <td>16884.92400</td>\n",
                            "    </tr>\n",
                            "    <tr>\n",
                            "      <th>1</th>\n",
                            "      <td>18</td>\n",
                            "      <td>male</td>\n",
                            "      <td>33.770</td>\n",
                            "      <td>1</td>\n",
                            "      <td>no</td>\n",
                            "      <td>southeast</td>\n",
                            "      <td>1725.55230</td>\n",
                            "    </tr>\n",
                            "    <tr>\n",
                            "      <th>2</th>\n",
                            "      <td>28</td>\n",
                            "      <td>male</td>\n",
                            "      <td>33.000</td>\n",
                            "      <td>3</td>\n",
                            "      <td>no</td>\n",
                            "      <td>southeast</td>\n",
                            "      <td>4449.46200</td>\n",
                            "    </tr>\n",
                            "    <tr>\n",
                            "      <th>3</th>\n",
                            "      <td>33</td>\n",
                            "      <td>male</td>\n",
                            "      <td>22.705</td>\n",
                            "      <td>0</td>\n",
                            "      <td>no</td>\n",
                            "      <td>northwest</td>\n",
                            "      <td>21984.47061</td>\n",
                            "    </tr>\n",
                            "    <tr>\n",
                            "      <th>4</th>\n",
                            "      <td>32</td>\n",
                            "      <td>male</td>\n",
                            "      <td>28.880</td>\n",
                            "      <td>0</td>\n",
                            "      <td>no</td>\n",
                            "      <td>northwest</td>\n",
                            "      <td>3866.85520</td>\n",
                            "    </tr>\n",
                            "  </tbody>\n",
                            "</table>\n",
                            "</div>"
                        ],
                        "text/plain": [
                            "   age     sex     bmi  children smoker     region      charges\n",
                            "0   19  female  27.900         0    yes  southwest  16884.92400\n",
                            "1   18    male  33.770         1     no  southeast   1725.55230\n",
                            "2   28    male  33.000         3     no  southeast   4449.46200\n",
                            "3   33    male  22.705         0     no  northwest  21984.47061\n",
                            "4   32    male  28.880         0     no  northwest   3866.85520"
                        ]
                    },
                    "metadata": {},
                    "execution_count": 3
                }
            ],
            "metadata": {}
        },
        {
            "cell_type": "code",
            "execution_count": 4,
            "source": [
                "insurance.shape # gives the dimensions of our data\n",
                "# in this case the data has 1338 rows and 7 columns"
            ],
            "outputs": [
                {
                    "output_type": "execute_result",
                    "data": {
                        "text/plain": [
                            "(1338, 7)"
                        ]
                    },
                    "metadata": {},
                    "execution_count": 4
                }
            ],
            "metadata": {}
        },
        {
            "cell_type": "code",
            "execution_count": 5,
            "source": [
                "insurance.dtypes # gives the data types of our data"
            ],
            "outputs": [
                {
                    "output_type": "execute_result",
                    "data": {
                        "text/plain": [
                            "age           int64\n",
                            "sex          object\n",
                            "bmi         float64\n",
                            "children      int64\n",
                            "smoker       object\n",
                            "region       object\n",
                            "charges     float64\n",
                            "dtype: object"
                        ]
                    },
                    "metadata": {},
                    "execution_count": 5
                }
            ],
            "metadata": {}
        },
        {
            "cell_type": "code",
            "execution_count": 13,
            "source": [
                "insurance.describe(include='all').T \n",
                "# gives the statistics for the table \n",
                "# .T is to get the transpose of the table"
            ],
            "outputs": [
                {
                    "output_type": "execute_result",
                    "data": {
                        "text/html": [
                            "<div>\n",
                            "<style scoped>\n",
                            "    .dataframe tbody tr th:only-of-type {\n",
                            "        vertical-align: middle;\n",
                            "    }\n",
                            "\n",
                            "    .dataframe tbody tr th {\n",
                            "        vertical-align: top;\n",
                            "    }\n",
                            "\n",
                            "    .dataframe thead th {\n",
                            "        text-align: right;\n",
                            "    }\n",
                            "</style>\n",
                            "<table border=\"1\" class=\"dataframe\">\n",
                            "  <thead>\n",
                            "    <tr style=\"text-align: right;\">\n",
                            "      <th></th>\n",
                            "      <th>count</th>\n",
                            "      <th>unique</th>\n",
                            "      <th>top</th>\n",
                            "      <th>freq</th>\n",
                            "      <th>mean</th>\n",
                            "      <th>std</th>\n",
                            "      <th>min</th>\n",
                            "      <th>25%</th>\n",
                            "      <th>50%</th>\n",
                            "      <th>75%</th>\n",
                            "      <th>max</th>\n",
                            "    </tr>\n",
                            "  </thead>\n",
                            "  <tbody>\n",
                            "    <tr>\n",
                            "      <th>age</th>\n",
                            "      <td>1338.0</td>\n",
                            "      <td>NaN</td>\n",
                            "      <td>NaN</td>\n",
                            "      <td>NaN</td>\n",
                            "      <td>39.207025</td>\n",
                            "      <td>14.04996</td>\n",
                            "      <td>18.0</td>\n",
                            "      <td>27.0</td>\n",
                            "      <td>39.0</td>\n",
                            "      <td>51.0</td>\n",
                            "      <td>64.0</td>\n",
                            "    </tr>\n",
                            "    <tr>\n",
                            "      <th>sex</th>\n",
                            "      <td>1338</td>\n",
                            "      <td>2</td>\n",
                            "      <td>male</td>\n",
                            "      <td>676</td>\n",
                            "      <td>NaN</td>\n",
                            "      <td>NaN</td>\n",
                            "      <td>NaN</td>\n",
                            "      <td>NaN</td>\n",
                            "      <td>NaN</td>\n",
                            "      <td>NaN</td>\n",
                            "      <td>NaN</td>\n",
                            "    </tr>\n",
                            "    <tr>\n",
                            "      <th>bmi</th>\n",
                            "      <td>1338.0</td>\n",
                            "      <td>NaN</td>\n",
                            "      <td>NaN</td>\n",
                            "      <td>NaN</td>\n",
                            "      <td>30.663397</td>\n",
                            "      <td>6.098187</td>\n",
                            "      <td>15.96</td>\n",
                            "      <td>26.29625</td>\n",
                            "      <td>30.4</td>\n",
                            "      <td>34.69375</td>\n",
                            "      <td>53.13</td>\n",
                            "    </tr>\n",
                            "    <tr>\n",
                            "      <th>children</th>\n",
                            "      <td>1338.0</td>\n",
                            "      <td>NaN</td>\n",
                            "      <td>NaN</td>\n",
                            "      <td>NaN</td>\n",
                            "      <td>1.094918</td>\n",
                            "      <td>1.205493</td>\n",
                            "      <td>0.0</td>\n",
                            "      <td>0.0</td>\n",
                            "      <td>1.0</td>\n",
                            "      <td>2.0</td>\n",
                            "      <td>5.0</td>\n",
                            "    </tr>\n",
                            "    <tr>\n",
                            "      <th>smoker</th>\n",
                            "      <td>1338</td>\n",
                            "      <td>2</td>\n",
                            "      <td>no</td>\n",
                            "      <td>1064</td>\n",
                            "      <td>NaN</td>\n",
                            "      <td>NaN</td>\n",
                            "      <td>NaN</td>\n",
                            "      <td>NaN</td>\n",
                            "      <td>NaN</td>\n",
                            "      <td>NaN</td>\n",
                            "      <td>NaN</td>\n",
                            "    </tr>\n",
                            "    <tr>\n",
                            "      <th>region</th>\n",
                            "      <td>1338</td>\n",
                            "      <td>4</td>\n",
                            "      <td>southeast</td>\n",
                            "      <td>364</td>\n",
                            "      <td>NaN</td>\n",
                            "      <td>NaN</td>\n",
                            "      <td>NaN</td>\n",
                            "      <td>NaN</td>\n",
                            "      <td>NaN</td>\n",
                            "      <td>NaN</td>\n",
                            "      <td>NaN</td>\n",
                            "    </tr>\n",
                            "    <tr>\n",
                            "      <th>charges</th>\n",
                            "      <td>1338.0</td>\n",
                            "      <td>NaN</td>\n",
                            "      <td>NaN</td>\n",
                            "      <td>NaN</td>\n",
                            "      <td>13270.422265</td>\n",
                            "      <td>12110.011237</td>\n",
                            "      <td>1121.8739</td>\n",
                            "      <td>4740.28715</td>\n",
                            "      <td>9382.033</td>\n",
                            "      <td>16639.912515</td>\n",
                            "      <td>63770.42801</td>\n",
                            "    </tr>\n",
                            "  </tbody>\n",
                            "</table>\n",
                            "</div>"
                        ],
                        "text/plain": [
                            "           count unique        top  freq          mean           std  \\\n",
                            "age       1338.0    NaN        NaN   NaN     39.207025      14.04996   \n",
                            "sex         1338      2       male   676           NaN           NaN   \n",
                            "bmi       1338.0    NaN        NaN   NaN     30.663397      6.098187   \n",
                            "children  1338.0    NaN        NaN   NaN      1.094918      1.205493   \n",
                            "smoker      1338      2         no  1064           NaN           NaN   \n",
                            "region      1338      4  southeast   364           NaN           NaN   \n",
                            "charges   1338.0    NaN        NaN   NaN  13270.422265  12110.011237   \n",
                            "\n",
                            "                min         25%       50%           75%          max  \n",
                            "age            18.0        27.0      39.0          51.0         64.0  \n",
                            "sex             NaN         NaN       NaN           NaN          NaN  \n",
                            "bmi           15.96    26.29625      30.4      34.69375        53.13  \n",
                            "children        0.0         0.0       1.0           2.0          5.0  \n",
                            "smoker          NaN         NaN       NaN           NaN          NaN  \n",
                            "region          NaN         NaN       NaN           NaN          NaN  \n",
                            "charges   1121.8739  4740.28715  9382.033  16639.912515  63770.42801  "
                        ]
                    },
                    "metadata": {},
                    "execution_count": 13
                }
            ],
            "metadata": {}
        },
        {
            "cell_type": "code",
            "execution_count": null,
            "source": [],
            "outputs": [],
            "metadata": {}
        }
    ],
    "metadata": {
        "orig_nbformat": 4,
        "language_info": {
            "name": "python",
            "version": "3.8.10",
            "mimetype": "text/x-python",
            "codemirror_mode": {
                "name": "ipython",
                "version": 3
            },
            "pygments_lexer": "ipython3",
            "nbconvert_exporter": "python",
            "file_extension": ".py"
        },
        "kernelspec": {
            "name": "python3",
            "display_name": "Python 3.8.10 64-bit"
        },
        "interpreter": {
            "hash": "31f2aee4e71d21fbe5cf8b01ff0e069b9275f58929596ceb00d14d90e3e16cd6"
        }
    },
    "nbformat": 4,
    "nbformat_minor": 2
}