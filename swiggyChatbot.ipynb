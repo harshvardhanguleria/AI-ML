{
    "cells": [
        {
            "cell_type": "code",
            "execution_count": 1,
            "source": [
                "import nltk\n",
                "import numpy as np"
            ],
            "outputs": [],
            "metadata": {}
        },
        {
            "cell_type": "code",
            "execution_count": 2,
            "source": [
                "# download model to tokenize message\n",
                "nltk.download('punkt')\n",
                "# download stop words\n",
                "nltk.download('stopwords')\n",
                "nltk.download('wordnet')"
            ],
            "outputs": [
                {
                    "output_type": "stream",
                    "name": "stderr",
                    "text": [
                        "[nltk_data] Downloading package punkt to\n",
                        "[nltk_data]     /home/kingston_machismo/nltk_data...\n",
                        "[nltk_data]   Unzipping tokenizers/punkt.zip.\n",
                        "[nltk_data] Downloading package stopwords to\n",
                        "[nltk_data]     /home/kingston_machismo/nltk_data...\n",
                        "[nltk_data]   Unzipping corpora/stopwords.zip.\n",
                        "[nltk_data] Downloading package wordnet to\n",
                        "[nltk_data]     /home/kingston_machismo/nltk_data...\n",
                        "[nltk_data]   Unzipping corpora/wordnet.zip.\n"
                    ]
                },
                {
                    "output_type": "execute_result",
                    "data": {
                        "text/plain": [
                            "True"
                        ]
                    },
                    "metadata": {},
                    "execution_count": 2
                }
            ],
            "metadata": {}
        },
        {
            "cell_type": "code",
            "execution_count": 4,
            "source": [
                "from nltk.tokenize import word_tokenize\n",
                "\n",
                "from nltk.corpus import stopwords\n",
                "stop_words = stopwords.words('english')\n",
                "\n",
                "# from nltk.stem"
            ],
            "outputs": [],
            "metadata": {}
        },
        {
            "cell_type": "code",
            "execution_count": null,
            "source": [
                "def clear_corpus(corpus):\n",
                "    "
            ],
            "outputs": [],
            "metadata": {}
        }
    ],
    "metadata": {
        "orig_nbformat": 4,
        "language_info": {
            "name": "python",
            "version": "3.8.10",
            "mimetype": "text/x-python",
            "codemirror_mode": {
                "name": "ipython",
                "version": 3
            },
            "pygments_lexer": "ipython3",
            "nbconvert_exporter": "python",
            "file_extension": ".py"
        },
        "kernelspec": {
            "name": "python3",
            "display_name": "Python 3.8.10 64-bit"
        },
        "interpreter": {
            "hash": "916dbcbb3f70747c44a77c7bcd40155683ae19c65e1c03b4aa3499c5328201f1"
        }
    },
    "nbformat": 4,
    "nbformat_minor": 2
}